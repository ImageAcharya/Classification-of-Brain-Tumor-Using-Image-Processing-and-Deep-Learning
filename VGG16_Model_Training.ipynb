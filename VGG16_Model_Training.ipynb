{
  "cells": [
    {
      "cell_type": "code",
      "execution_count": null,
      "metadata": {
        "id": "47eSllT3Egfb"
      },
      "outputs": [],
      "source": [
        "#import necessary libraries and modules\n",
        "import numpy as np\n",
        "from PIL import Image\n",
        "import tensorflow as tf\n",
        "import matplotlib.pyplot as plt\n",
        "from keras.applications import vgg16\n",
        "from tensorflow.keras.models import Model\n",
        "from tensorflow.keras.optimizers import Adam\n",
        "from tensorflow.keras.layers import Dense, GlobalAveragePooling2D\n",
        "from tensorflow.keras.preprocessing.image import ImageDataGenerator\n",
        "from sklearn.metrics import classification_report, confusion_matrix"
      ]
    },
    {
      "cell_type": "code",
      "source": [
        "#mount google drive\n",
        "from google.colab import drive\n",
        "drive.mount('/content/drive')"
      ],
      "metadata": {
        "id": "34yWaRjGFMgq"
      },
      "execution_count": null,
      "outputs": []
    },
    {
      "cell_type": "code",
      "execution_count": null,
      "metadata": {
        "id": "1Uli-F8uVIac",
        "colab": {
          "base_uri": "https://localhost:8080/"
        },
        "outputId": "c35a75d4-617d-4482-f2f9-4934d8306f09"
      },
      "outputs": [
        {
          "output_type": "stream",
          "name": "stdout",
          "text": [
            "Downloading data from https://storage.googleapis.com/tensorflow/keras-applications/vgg16/vgg16_weights_tf_dim_ordering_tf_kernels_notop.h5\n",
            "58889256/58889256 [==============================] - 0s 0us/step\n"
          ]
        }
      ],
      "source": [
        "#load VGG16\n",
        "#excluding top layers of VGG16\n",
        "vgg_model = vgg16.VGG16(\n",
        "    weights = \"imagenet\",\n",
        "    include_top = False,\n",
        "    input_shape = (224,224,3),\n",
        "    classes = 4\n",
        ")"
      ]
    },
    {
      "cell_type": "code",
      "execution_count": null,
      "metadata": {
        "colab": {
          "base_uri": "https://localhost:8080/"
        },
        "id": "gYAjNGVLVaNu",
        "outputId": "0cb58ab4-0b8a-467e-a596-ab2227c598f2"
      },
      "outputs": [
        {
          "output_type": "stream",
          "name": "stdout",
          "text": [
            "Model: \"vgg16\"\n",
            "_________________________________________________________________\n",
            " Layer (type)                Output Shape              Param #   \n",
            "=================================================================\n",
            " input_1 (InputLayer)        [(None, 224, 224, 3)]     0         \n",
            "                                                                 \n",
            " block1_conv1 (Conv2D)       (None, 224, 224, 64)      1792      \n",
            "                                                                 \n",
            " block1_conv2 (Conv2D)       (None, 224, 224, 64)      36928     \n",
            "                                                                 \n",
            " block1_pool (MaxPooling2D)  (None, 112, 112, 64)      0         \n",
            "                                                                 \n",
            " block2_conv1 (Conv2D)       (None, 112, 112, 128)     73856     \n",
            "                                                                 \n",
            " block2_conv2 (Conv2D)       (None, 112, 112, 128)     147584    \n",
            "                                                                 \n",
            " block2_pool (MaxPooling2D)  (None, 56, 56, 128)       0         \n",
            "                                                                 \n",
            " block3_conv1 (Conv2D)       (None, 56, 56, 256)       295168    \n",
            "                                                                 \n",
            " block3_conv2 (Conv2D)       (None, 56, 56, 256)       590080    \n",
            "                                                                 \n",
            " block3_conv3 (Conv2D)       (None, 56, 56, 256)       590080    \n",
            "                                                                 \n",
            " block3_pool (MaxPooling2D)  (None, 28, 28, 256)       0         \n",
            "                                                                 \n",
            " block4_conv1 (Conv2D)       (None, 28, 28, 512)       1180160   \n",
            "                                                                 \n",
            " block4_conv2 (Conv2D)       (None, 28, 28, 512)       2359808   \n",
            "                                                                 \n",
            " block4_conv3 (Conv2D)       (None, 28, 28, 512)       2359808   \n",
            "                                                                 \n",
            " block4_pool (MaxPooling2D)  (None, 14, 14, 512)       0         \n",
            "                                                                 \n",
            " block5_conv1 (Conv2D)       (None, 14, 14, 512)       2359808   \n",
            "                                                                 \n",
            " block5_conv2 (Conv2D)       (None, 14, 14, 512)       2359808   \n",
            "                                                                 \n",
            " block5_conv3 (Conv2D)       (None, 14, 14, 512)       2359808   \n",
            "                                                                 \n",
            " block5_pool (MaxPooling2D)  (None, 7, 7, 512)         0         \n",
            "                                                                 \n",
            "=================================================================\n",
            "Total params: 14,714,688\n",
            "Trainable params: 14,714,688\n",
            "Non-trainable params: 0\n",
            "_________________________________________________________________\n"
          ]
        }
      ],
      "source": [
        "vgg_model.summary()"
      ]
    },
    {
      "cell_type": "code",
      "execution_count": null,
      "metadata": {
        "id": "gGief3XJV7uW"
      },
      "outputs": [],
      "source": [
        "#freeze convolution layers of VGG16\n",
        "model = tf.keras.models.Sequential()\n",
        "for layer in vgg_model.layers:\n",
        "  layer.trainable = False\n",
        "  model.add(layer)"
      ]
    },
    {
      "cell_type": "code",
      "execution_count": null,
      "metadata": {
        "colab": {
          "base_uri": "https://localhost:8080/"
        },
        "id": "szw212I0WA1j",
        "outputId": "de95df5a-de55-4014-a884-5a70439f1725"
      },
      "outputs": [
        {
          "output_type": "stream",
          "name": "stdout",
          "text": [
            "Model: \"sequential\"\n",
            "_________________________________________________________________\n",
            " Layer (type)                Output Shape              Param #   \n",
            "=================================================================\n",
            " block1_conv1 (Conv2D)       (None, 224, 224, 64)      1792      \n",
            "                                                                 \n",
            " block1_conv2 (Conv2D)       (None, 224, 224, 64)      36928     \n",
            "                                                                 \n",
            " block1_pool (MaxPooling2D)  (None, 112, 112, 64)      0         \n",
            "                                                                 \n",
            " block2_conv1 (Conv2D)       (None, 112, 112, 128)     73856     \n",
            "                                                                 \n",
            " block2_conv2 (Conv2D)       (None, 112, 112, 128)     147584    \n",
            "                                                                 \n",
            " block2_pool (MaxPooling2D)  (None, 56, 56, 128)       0         \n",
            "                                                                 \n",
            " block3_conv1 (Conv2D)       (None, 56, 56, 256)       295168    \n",
            "                                                                 \n",
            " block3_conv2 (Conv2D)       (None, 56, 56, 256)       590080    \n",
            "                                                                 \n",
            " block3_conv3 (Conv2D)       (None, 56, 56, 256)       590080    \n",
            "                                                                 \n",
            " block3_pool (MaxPooling2D)  (None, 28, 28, 256)       0         \n",
            "                                                                 \n",
            " block4_conv1 (Conv2D)       (None, 28, 28, 512)       1180160   \n",
            "                                                                 \n",
            " block4_conv2 (Conv2D)       (None, 28, 28, 512)       2359808   \n",
            "                                                                 \n",
            " block4_conv3 (Conv2D)       (None, 28, 28, 512)       2359808   \n",
            "                                                                 \n",
            " block4_pool (MaxPooling2D)  (None, 14, 14, 512)       0         \n",
            "                                                                 \n",
            " block5_conv1 (Conv2D)       (None, 14, 14, 512)       2359808   \n",
            "                                                                 \n",
            " block5_conv2 (Conv2D)       (None, 14, 14, 512)       2359808   \n",
            "                                                                 \n",
            " block5_conv3 (Conv2D)       (None, 14, 14, 512)       2359808   \n",
            "                                                                 \n",
            " block5_pool (MaxPooling2D)  (None, 7, 7, 512)         0         \n",
            "                                                                 \n",
            "=================================================================\n",
            "Total params: 14,714,688\n",
            "Trainable params: 0\n",
            "Non-trainable params: 14,714,688\n",
            "_________________________________________________________________\n"
          ]
        }
      ],
      "source": [
        "model.summary()"
      ]
    },
    {
      "cell_type": "code",
      "execution_count": null,
      "metadata": {
        "id": "OgOaJsKrWVo9"
      },
      "outputs": [],
      "source": [
        "#adding custom top layers to VGG16\n",
        "model.add(tf.keras.layers.Flatten())\n",
        "model.add(tf.keras.layers.Dense(512, activation=\"relu\"))\n",
        "model.add(tf.keras.layers.Dropout(0.5))\n",
        "model.add(tf.keras.layers.Dense(4, activation=\"softmax\"))"
      ]
    },
    {
      "cell_type": "code",
      "source": [
        "model.summary()"
      ],
      "metadata": {
        "colab": {
          "base_uri": "https://localhost:8080/"
        },
        "id": "LTXOkho9BCUf",
        "outputId": "7e983e2c-2f22-4647-b542-5fd6076fcd1a"
      },
      "execution_count": null,
      "outputs": [
        {
          "output_type": "stream",
          "name": "stdout",
          "text": [
            "Model: \"sequential\"\n",
            "_________________________________________________________________\n",
            " Layer (type)                Output Shape              Param #   \n",
            "=================================================================\n",
            " block1_conv1 (Conv2D)       (None, 224, 224, 64)      1792      \n",
            "                                                                 \n",
            " block1_conv2 (Conv2D)       (None, 224, 224, 64)      36928     \n",
            "                                                                 \n",
            " block1_pool (MaxPooling2D)  (None, 112, 112, 64)      0         \n",
            "                                                                 \n",
            " block2_conv1 (Conv2D)       (None, 112, 112, 128)     73856     \n",
            "                                                                 \n",
            " block2_conv2 (Conv2D)       (None, 112, 112, 128)     147584    \n",
            "                                                                 \n",
            " block2_pool (MaxPooling2D)  (None, 56, 56, 128)       0         \n",
            "                                                                 \n",
            " block3_conv1 (Conv2D)       (None, 56, 56, 256)       295168    \n",
            "                                                                 \n",
            " block3_conv2 (Conv2D)       (None, 56, 56, 256)       590080    \n",
            "                                                                 \n",
            " block3_conv3 (Conv2D)       (None, 56, 56, 256)       590080    \n",
            "                                                                 \n",
            " block3_pool (MaxPooling2D)  (None, 28, 28, 256)       0         \n",
            "                                                                 \n",
            " block4_conv1 (Conv2D)       (None, 28, 28, 512)       1180160   \n",
            "                                                                 \n",
            " block4_conv2 (Conv2D)       (None, 28, 28, 512)       2359808   \n",
            "                                                                 \n",
            " block4_conv3 (Conv2D)       (None, 28, 28, 512)       2359808   \n",
            "                                                                 \n",
            " block4_pool (MaxPooling2D)  (None, 14, 14, 512)       0         \n",
            "                                                                 \n",
            " block5_conv1 (Conv2D)       (None, 14, 14, 512)       2359808   \n",
            "                                                                 \n",
            " block5_conv2 (Conv2D)       (None, 14, 14, 512)       2359808   \n",
            "                                                                 \n",
            " block5_conv3 (Conv2D)       (None, 14, 14, 512)       2359808   \n",
            "                                                                 \n",
            " block5_pool (MaxPooling2D)  (None, 7, 7, 512)         0         \n",
            "                                                                 \n",
            " flatten (Flatten)           (None, 25088)             0         \n",
            "                                                                 \n",
            " dense (Dense)               (None, 512)               12845568  \n",
            "                                                                 \n",
            " dropout (Dropout)           (None, 512)               0         \n",
            "                                                                 \n",
            " dense_1 (Dense)             (None, 4)                 2052      \n",
            "                                                                 \n",
            "=================================================================\n",
            "Total params: 27,562,308\n",
            "Trainable params: 12,847,620\n",
            "Non-trainable params: 14,714,688\n",
            "_________________________________________________________________\n"
          ]
        }
      ]
    },
    {
      "cell_type": "code",
      "execution_count": null,
      "metadata": {
        "id": "CIlcdA0gWw-k"
      },
      "outputs": [],
      "source": [
        "#compile the model\n",
        "model.compile(loss='categorical_crossentropy', optimizer=\"adam\", metrics=[\"accuracy\"])"
      ]
    },
    {
      "cell_type": "code",
      "source": [
        "#load and prepare the dataset\n",
        "train = ImageDataGenerator(rescale = 1/255)\n",
        "validation = ImageDataGenerator(rescale = 1/255)\n",
        "train_dataset = train.flow_from_directory(\"/content/drive/MyDrive/Dataset_Processed/Training\", target_size=(224,224))\n",
        "validation_dataset = validation.flow_from_directory(\"/content/drive/MyDrive/Dataset_Processed/Validation\", target_size=(224,224))"
      ],
      "metadata": {
        "id": "5YX7kvVXHW1K"
      },
      "execution_count": null,
      "outputs": []
    },
    {
      "cell_type": "code",
      "execution_count": null,
      "metadata": {
        "colab": {
          "base_uri": "https://localhost:8080/"
        },
        "id": "esthvOnNYI7c",
        "outputId": "85038d65-26df-4592-d1cc-8ce81626c112"
      },
      "outputs": [
        {
          "output_type": "stream",
          "name": "stdout",
          "text": [
            "Epoch 1/10\n",
            "154/154 [==============================] - 1599s 10s/step - loss: 0.8913 - accuracy: 0.7569 - val_loss: 0.3724 - val_accuracy: 0.8584\n",
            "Epoch 2/10\n",
            "154/154 [==============================] - 23s 151ms/step - loss: 0.3703 - accuracy: 0.8614 - val_loss: 0.3174 - val_accuracy: 0.8793\n",
            "Epoch 3/10\n",
            "154/154 [==============================] - 25s 159ms/step - loss: 0.3133 - accuracy: 0.8794 - val_loss: 0.2593 - val_accuracy: 0.9021\n",
            "Epoch 4/10\n",
            "154/154 [==============================] - 25s 161ms/step - loss: 0.2621 - accuracy: 0.9040 - val_loss: 0.2480 - val_accuracy: 0.9087\n",
            "Epoch 5/10\n",
            "154/154 [==============================] - 25s 163ms/step - loss: 0.2427 - accuracy: 0.9063 - val_loss: 0.2346 - val_accuracy: 0.9068\n",
            "Epoch 6/10\n",
            "154/154 [==============================] - 24s 157ms/step - loss: 0.2242 - accuracy: 0.9130 - val_loss: 0.2336 - val_accuracy: 0.9106\n",
            "Epoch 7/10\n",
            "154/154 [==============================] - 24s 155ms/step - loss: 0.2167 - accuracy: 0.9134 - val_loss: 0.2155 - val_accuracy: 0.9183\n",
            "Epoch 8/10\n",
            "154/154 [==============================] - 24s 154ms/step - loss: 0.1901 - accuracy: 0.9250 - val_loss: 0.2253 - val_accuracy: 0.9163\n",
            "Epoch 9/10\n",
            "154/154 [==============================] - 24s 158ms/step - loss: 0.1782 - accuracy: 0.9329 - val_loss: 0.2059 - val_accuracy: 0.9278\n",
            "Epoch 10/10\n",
            "154/154 [==============================] - 24s 157ms/step - loss: 0.1591 - accuracy: 0.9374 - val_loss: 0.1853 - val_accuracy: 0.9297\n"
          ]
        },
        {
          "output_type": "execute_result",
          "data": {
            "text/plain": [
              "<keras.callbacks.History at 0x7f2af22d75e0>"
            ]
          },
          "metadata": {},
          "execution_count": 12
        }
      ],
      "source": [
        "#train the model\n",
        "model.fit(train_dataset, validation_data=validation_dataset, steps_per_epoch=154, epochs=10)"
      ]
    },
    {
      "cell_type": "code",
      "execution_count": null,
      "metadata": {
        "colab": {
          "base_uri": "https://localhost:8080/",
          "height": 410
        },
        "id": "ezR5La8_Utv0",
        "outputId": "67d3d69f-a63c-459e-d593-3bb390c993f4"
      },
      "outputs": [
        {
          "output_type": "display_data",
          "data": {
            "text/plain": [
              "<Figure size 800x400 with 1 Axes>"
            ],
            "image/png": "[encoded data removed]"
          },
          "metadata": {}
        }
      ],
      "source": [
        "#accuracy plot\n",
        "plt.figure(figsize=(8,4))\n",
        "plt.plot(model.history.history['accuracy'], color='r')\n",
        "plt.plot(model.history.history['val_accuracy'], color='b')\n",
        "plt.title('Model Accuracy')\n",
        "plt.ylabel('Accuracy')\n",
        "plt.xlabel('Epochs')\n",
        "plt.legend(['train', 'validation'])\n",
        "plt.show()"
      ]
    },
    {
      "cell_type": "code",
      "execution_count": null,
      "metadata": {
        "colab": {
          "base_uri": "https://localhost:8080/",
          "height": 410
        },
        "id": "a0EDqojmUxTS",
        "outputId": "8d62c643-0d52-4128-f9a0-a38576184799"
      },
      "outputs": [
        {
          "output_type": "display_data",
          "data": {
            "text/plain": [
              "<Figure size 800x400 with 1 Axes>"
            ],
            "image/png": "[encoded data removed]"
          },
          "metadata": {}
        }
      ],
      "source": [
        "#loss plot\n",
        "plt.figure(figsize=(8,4))\n",
        "plt.plot(model.history.history['loss'], color='r')\n",
        "plt.plot(model.history.history['val_loss'], color='b')\n",
        "plt.title('Model Loss')\n",
        "plt.ylabel('Loss')\n",
        "plt.xlabel('Epochs')\n",
        "plt.legend(['train', 'validation'])\n",
        "plt.show()"
      ]
    },
    {
      "cell_type": "code",
      "execution_count": null,
      "metadata": {
        "id": "f0ZIMM7yWUSE"
      },
      "outputs": [],
      "source": [
        "#save the model\n",
        "model.save('/content/drive/MyDrive/brain_tumor_classification_models2.h5')"
      ]
    },
    {
      "cell_type": "code",
      "execution_count": null,
      "metadata": {
        "id": "02bnB-4TWW7v"
      },
      "outputs": [],
      "source": [
        "#load the saved model\n",
        "loaded_model = tf.keras.models.load_model('/content/drive/MyDrive/brain_tumor_classification_models2.h5')"
      ]
    },
    {
      "cell_type": "code",
      "execution_count": null,
      "metadata": {
        "colab": {
          "base_uri": "https://localhost:8080/"
        },
        "id": "yDAljVCDWnbm",
        "outputId": "d86799dd-5a31-4a21-a690-8684585aa3c5"
      },
      "outputs": [
        {
          "output_type": "stream",
          "name": "stdout",
          "text": [
            "Found 1052 images belonging to 4 classes.\n"
          ]
        }
      ],
      "source": [
        "#load test dataset\n",
        "datagen = ImageDataGenerator(rescale=1/255)\n",
        "test_generator = datagen.flow_from_directory(\n",
        "    directory='/content/drive/MyDrive/Dataset_Processed/Testing',\n",
        "    target_size=image_size,\n",
        "    batch_size=batch_size,\n",
        "    class_mode='categorical'\n",
        ")"
      ]
    },
    {
      "cell_type": "code",
      "execution_count": null,
      "metadata": {
        "colab": {
          "base_uri": "https://localhost:8080/"
        },
        "id": "2OZDeIjdW5Ml",
        "outputId": "9c0d3078-5565-41ed-a3da-859b3f0ba543"
      },
      "outputs": [
        {
          "output_type": "stream",
          "name": "stdout",
          "text": [
            "33/33 [==============================] - 242s 8s/step\n",
            "Classification Report:\n",
            "              precision    recall  f1-score   support\n",
            "\n",
            "           0       0.19      0.17      0.18       243\n",
            "           1       0.28      0.30      0.29       246\n",
            "           2       0.27      0.27      0.27       300\n",
            "           3       0.29      0.30      0.29       263\n",
            "\n",
            "    accuracy                           0.26      1052\n",
            "   macro avg       0.26      0.26      0.26      1052\n",
            "weighted avg       0.26      0.26      0.26      1052\n",
            "\n",
            "Confusion Matrix:\n",
            "[[41 58 87 57]\n",
            " [55 74 64 53]\n",
            " [58 74 82 86]\n",
            " [59 57 68 79]]\n",
            "33/33 [==============================] - 4s 123ms/step - loss: 0.1699 - accuracy: 0.9363\n",
            "Test Loss: 0.1699494570493698\n",
            "Test Accuracy: 0.9363117814064026\n"
          ]
        }
      ],
      "source": [
        "#evaluate the model on test set\n",
        "true_labels = test_generator.classes\n",
        "predictions = loaded_model.predict(test_generator)\n",
        "predicted_labels = np.argmax(predictions, axis=1)\n",
        "\n",
        "print(\"Classification Report:\")\n",
        "print(classification_report(true_labels, predicted_labels))\n",
        "\n",
        "print(\"Confusion Matrix:\")\n",
        "print(confusion_matrix(true_labels, predicted_labels))\n",
        "\n",
        "test_loss, test_accuracy = loaded_model.evaluate(test_generator)\n",
        "print(\"Test Loss:\", test_loss)\n",
        "print(\"Test Accuracy:\", test_accuracy)"
      ]
    }
  ],
  "metadata": {
    "colab": {
      "provenance": [],
      "gpuType": "T4"
    },
    "kernelspec": {
      "display_name": "Python 3",
      "name": "python3"
    },
    "language_info": {
      "name": "python"
    },
    "accelerator": "GPU"
  },
  "nbformat": 4,
  "nbformat_minor": 0
}