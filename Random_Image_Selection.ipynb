{
 "cells": [
  {
   "cell_type": "code",
   "execution_count": 1,
   "id": "c39b302a",
   "metadata": {},
   "outputs": [],
   "source": [
    "import os\n",
    "import random\n",
    "import shutil"
   ]
  },
  {
   "cell_type": "code",
   "execution_count": 10,
   "id": "326345b5",
   "metadata": {},
   "outputs": [
    {
     "name": "stdout",
     "output_type": "stream",
     "text": [
      "Randomly selected 226 images moved to the destination folder.\n"
     ]
    }
   ],
   "source": [
    "def randomly_move_images(source_folder, destination_folder, num_images):\n",
    "    # Get the list of image files from the source folder\n",
    "    image_files = [file for file in os.listdir(source_folder) if file.endswith(('.jpg', '.jpeg', '.png'))]\n",
    "\n",
    "    # Check if the desired number of images is greater than the available images\n",
    "    if num_images > len(image_files):\n",
    "        print(\"The number of desired images exceeds the available images.\")\n",
    "        return\n",
    "\n",
    "    # Randomly select indices for images\n",
    "    random_indices = random.sample(range(len(image_files)), num_images)\n",
    "\n",
    "    # Create the destination folder if it doesn't exist\n",
    "    if not os.path.exists(destination_folder):\n",
    "        os.makedirs(destination_folder)\n",
    "\n",
    "    # Move the randomly selected images to the destination folder\n",
    "    for index in random_indices:\n",
    "        image_file = image_files[index]\n",
    "        source_path = os.path.join(source_folder, image_file)\n",
    "        destination_path = os.path.join(destination_folder, image_file)\n",
    "        shutil.move(source_path, destination_path)\n",
    "\n",
    "    print(f\"Randomly selected {num_images} images moved to the destination folder.\")\n",
    "\n",
    "# Usage example\n",
    "'''source_folder = \"C:\\\\Users\\\\HP\\\\Desktop\\\\Eighth Semester\\\\Project 8 Semester\\\\Dataset\\\\Training\\\\pituitary\"\n",
    "destination_folder = \"C:\\\\Users\\\\HP\\\\Desktop\\\\Eighth Semester\\\\Project 8 Semester\\\\Dataset\\\\Validation\\\\pituitary\"\n",
    "num_images = \n",
    "\n",
    "randomly_move_images(source_folder, destination_folder, num_images)'''"
   ]
  },
  {
   "cell_type": "code",
   "execution_count": null,
   "id": "7c2f907a",
   "metadata": {},
   "outputs": [],
   "source": []
  }
 ],
 "metadata": {
  "kernelspec": {
   "display_name": "Python 3 (ipykernel)",
   "language": "python",
   "name": "python3"
  },
  "language_info": {
   "codemirror_mode": {
    "name": "ipython",
    "version": 3
   },
   "file_extension": ".py",
   "mimetype": "text/x-python",
   "name": "python",
   "nbconvert_exporter": "python",
   "pygments_lexer": "ipython3",
   "version": "3.9.12"
  }
 },
 "nbformat": 4,
 "nbformat_minor": 5
}
