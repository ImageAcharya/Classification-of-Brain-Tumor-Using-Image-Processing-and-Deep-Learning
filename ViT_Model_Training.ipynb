{
  "cells": [
    {
      "cell_type": "code",
      "source": [
        "#Import necessary libraries and modules\n",
        "import os\n",
        "import numpy as np\n",
        "import tensorflow as tf\n",
        "import tensorflow_hub as hub\n",
        "import matplotlib.pyplot as plt\n",
        "from tensorflow.keras.models import Model\n",
        "from scipy.ndimage import gaussian_filter\n",
        "from tensorflow.keras.optimizers import Adam\n",
        "from tensorflow.keras.layers import Dense, GlobalAveragePooling2D\n",
        "from tensorflow.keras.preprocessing.image import ImageDataGenerator\n",
        "from sklearn.metrics import classification_report, confusion_matrix"
      ],
      "metadata": {
        "id": "JO3pj2xRJiJK"
      },
      "execution_count": null,
      "outputs": []
    },
    {
      "cell_type": "code",
      "source": [
        "#Mount google drive\n",
        "from google.colab import drive\n",
        "drive.mount('/content/drive')"
      ],
      "metadata": {
        "colab": {
          "base_uri": "https://localhost:8080/"
        },
        "id": "_JU3qn7EKODt",
        "outputId": "7e0292bb-5f92-4eb7-81f3-77cacb83ef6e"
      },
      "execution_count": null,
      "outputs": [
        {
          "output_type": "stream",
          "name": "stdout",
          "text": [
            "Mounted at /content/drive\n"
          ]
        }
      ]
    },
    {
      "cell_type": "code",
      "execution_count": null,
      "metadata": {
        "id": "99rv8HdOGaK2"
      },
      "outputs": [],
      "source": [
        "#Set random seed for reproducibility\n",
        "tf.random.set_seed(43)"
      ]
    },
    {
      "cell_type": "code",
      "execution_count": null,
      "metadata": {
        "id": "3GEuCvH9Ingr"
      },
      "outputs": [],
      "source": [
        "#Define hyperparameters\n",
        "image_size = (224, 224)\n",
        "batch_size = 32\n",
        "num_epochs = 10\n",
        "learning_rate = 1e-3\n",
        "num_classes = 4"
      ]
    },
    {
      "cell_type": "code",
      "execution_count": null,
      "metadata": {
        "id": "gHB5u_Lx2y-3"
      },
      "outputs": [],
      "source": [
        "#Load the pre-trained ViT model\n",
        "vit_model = hub.KerasLayer('https://tfhub.dev/sayakpaul/vit_b32_classification/1', trainable=False)"
      ]
    },
    {
      "cell_type": "code",
      "execution_count": null,
      "metadata": {
        "id": "B5hiGm1y8OfT"
      },
      "outputs": [],
      "source": [
        "#Modify the model's head for classification\n",
        "inputs = tf.keras.Input(shape=(image_size[0], image_size[1], 3))\n",
        "x = vit_model(inputs)\n",
        "x = tf.keras.layers.Flatten()(x)\n",
        "outputs = Dense(num_classes, activation='softmax')(x)\n",
        "model = Model(inputs=inputs, outputs=outputs)"
      ]
    },
    {
      "cell_type": "code",
      "execution_count": null,
      "metadata": {
        "id": "QmD2op6db1FU"
      },
      "outputs": [],
      "source": [
        "#Compile the model\n",
        "model.compile(optimizer=Adam(learning_rate), loss='categorical_crossentropy', metrics=['accuracy'])"
      ]
    },
    {
      "cell_type": "code",
      "execution_count": null,
      "metadata": {
        "colab": {
          "base_uri": "https://localhost:8080/"
        },
        "id": "dBXoZhWjvFA1",
        "outputId": "29c7efb7-55cb-4936-be73-1d4c2daea2ca"
      },
      "outputs": [
        {
          "output_type": "stream",
          "name": "stdout",
          "text": [
            "Found 4919 images belonging to 4 classes.\n",
            "Found 1052 images belonging to 4 classes.\n"
          ]
        }
      ],
      "source": [
        "#Load and prepare the dataset\n",
        "datagen = ImageDataGenerator(rescale=1./255)\n",
        "\n",
        "train_generator = datagen.flow_from_directory(\n",
        "    directory='/content/drive/MyDrive/Dataset_Processed/Training',\n",
        "    target_size=image_size,\n",
        "    batch_size=batch_size,\n",
        "    class_mode='categorical')\n",
        "\n",
        "validation_generator = datagen.flow_from_directory(\n",
        "    directory='/content/drive/MyDrive/Dataset_Processed/Validation',\n",
        "    target_size=image_size,\n",
        "    batch_size=batch_size,\n",
        "    class_mode='categorical')"
      ]
    },
    {
      "cell_type": "code",
      "source": [
        "#Train the model\n",
        "model.fit(train_generator, epochs=num_epochs, validation_data=validation_generator)"
      ],
      "metadata": {
        "colab": {
          "base_uri": "https://localhost:8080/"
        },
        "id": "E-8gXAldJlKK",
        "outputId": "41aa162e-f4a1-4b8d-d7ac-540aa2813ad8"
      },
      "execution_count": null,
      "outputs": [
        {
          "output_type": "stream",
          "name": "stdout",
          "text": [
            "Epoch 1/10\n",
            "154/154 [==============================] - 1215s 8s/step - loss: 0.6587 - accuracy: 0.7473 - val_loss: 0.4399 - val_accuracy: 0.8279\n",
            "Epoch 2/10\n",
            "154/154 [==============================] - 673s 4s/step - loss: 0.3904 - accuracy: 0.8583 - val_loss: 0.3520 - val_accuracy: 0.8679\n",
            "Epoch 3/10\n",
            "154/154 [==============================] - 707s 5s/step - loss: 0.3204 - accuracy: 0.8805 - val_loss: 0.3419 - val_accuracy: 0.8764\n",
            "Epoch 4/10\n",
            "154/154 [==============================] - 683s 4s/step - loss: 0.3061 - accuracy: 0.8857 - val_loss: 0.3304 - val_accuracy: 0.8698\n",
            "Epoch 5/10\n",
            "154/154 [==============================] - 680s 4s/step - loss: 0.2675 - accuracy: 0.8982 - val_loss: 0.3402 - val_accuracy: 0.8669\n",
            "Epoch 6/10\n",
            "154/154 [==============================] - 676s 4s/step - loss: 0.2520 - accuracy: 0.9077 - val_loss: 0.2871 - val_accuracy: 0.9011\n",
            "Epoch 7/10\n",
            "154/154 [==============================] - 697s 5s/step - loss: 0.2362 - accuracy: 0.9081 - val_loss: 0.2893 - val_accuracy: 0.8964\n",
            "Epoch 8/10\n",
            "154/154 [==============================] - 699s 5s/step - loss: 0.2258 - accuracy: 0.9122 - val_loss: 0.2707 - val_accuracy: 0.8945\n",
            "Epoch 9/10\n",
            "154/154 [==============================] - 703s 5s/step - loss: 0.2179 - accuracy: 0.9166 - val_loss: 0.2819 - val_accuracy: 0.9002\n",
            "Epoch 10/10\n",
            "154/154 [==============================] - 699s 5s/step - loss: 0.2069 - accuracy: 0.9258 - val_loss: 0.2737 - val_accuracy: 0.8945\n"
          ]
        },
        {
          "output_type": "execute_result",
          "data": {
            "text/plain": [
              "<keras.callbacks.History at 0x7f447f43afe0>"
            ]
          },
          "metadata": {},
          "execution_count": 9
        }
      ]
    },
    {
      "cell_type": "code",
      "source": [
        "#Accuracy plot\n",
        "plt.figure(figsize=(8,4))\n",
        "plt.plot(model.history.history['accuracy'], color='r')\n",
        "plt.plot(model.history.history['val_accuracy'], color='b')\n",
        "plt.title('Model Accuracy')\n",
        "plt.ylabel('Accuracy')\n",
        "plt.xlabel('Epochs')\n",
        "plt.legend(['train', 'validation'])\n",
        "plt.show()"
      ],
      "metadata": {
        "colab": {
          "base_uri": "https://localhost:8080/",
          "height": 410
        },
        "id": "_eDKZPnqzRIW",
        "outputId": "2de59ee6-555a-487c-f1ff-979402d9c104"
      },
      "execution_count": null,
      "outputs": [
        {
          "output_type": "display_data",
          "data": {
            "text/plain": [
              "<Figure size 800x400 with 1 Axes>"
            ],
            "image/png": "[encoded data removed]"
          },
          "metadata": {}
        }
      ]
    },
    {
      "cell_type": "code",
      "source": [
        "#Loss plot\n",
        "plt.figure(figsize=(8,4))\n",
        "plt.plot(model.history.history['loss'], color='r')\n",
        "plt.plot(model.history.history['val_loss'], color='b')\n",
        "plt.title('Model Loss')\n",
        "plt.ylabel('Loss')\n",
        "plt.xlabel('Epochs')\n",
        "plt.legend(['train', 'validation'])\n",
        "plt.show()"
      ],
      "metadata": {
        "colab": {
          "base_uri": "https://localhost:8080/",
          "height": 410
        },
        "id": "32KT8SHo0Zkw",
        "outputId": "72db70bf-132f-497e-a75d-58f983ff5ae8"
      },
      "execution_count": null,
      "outputs": [
        {
          "output_type": "display_data",
          "data": {
            "text/plain": [
              "<Figure size 800x400 with 1 Axes>"
            ],
            "image/png": "[encoded data removed]"
          },
          "metadata": {}
        }
      ]
    },
    {
      "cell_type": "code",
      "source": [
        "#Save the model\n",
        "model.save('/content/drive/MyDrive/brain_tumor_classification_model_processedlast.tf')"
      ],
      "metadata": {
        "id": "8tgN9Ce1YcC5",
        "colab": {
          "base_uri": "https://localhost:8080/"
        },
        "outputId": "138c25f5-f837-4f08-81d3-58dbddb205e3"
      },
      "execution_count": null,
      "outputs": [
        {
          "output_type": "stream",
          "name": "stderr",
          "text": [
            "WARNING:absl:Found untraced functions such as _update_step_xla while saving (showing 1 of 1). These functions will not be directly callable after loading.\n"
          ]
        }
      ]
    },
    {
      "cell_type": "code",
      "source": [
        "#Load the saved model\n",
        "loaded_model = tf.keras.models.load_model('/content/drive/MyDrive/brain_tumor_classification_model_processedlast.tf')"
      ],
      "metadata": {
        "id": "IhOJ6tjvjizj"
      },
      "execution_count": null,
      "outputs": []
    },
    {
      "cell_type": "code",
      "source": [
        "#Load test dataset\n",
        "datagen = ImageDataGenerator(rescale=1/255)\n",
        "test_generator = datagen.flow_from_directory(\n",
        "    directory='/content/drive/MyDrive/Dataset_Processed/Testing',\n",
        "    target_size=image_size,\n",
        "    batch_size=batch_size,\n",
        "    class_mode='categorical'\n",
        ")"
      ],
      "metadata": {
        "colab": {
          "base_uri": "https://localhost:8080/"
        },
        "id": "fvAyp0cKtP7v",
        "outputId": "fa96324f-101f-4008-d193-3f7937c3cdc9"
      },
      "execution_count": null,
      "outputs": [
        {
          "output_type": "stream",
          "name": "stdout",
          "text": [
            "Found 1052 images belonging to 4 classes.\n"
          ]
        }
      ]
    },
    {
      "cell_type": "code",
      "source": [
        "#Evaluate the model on test set\n",
        "true_labels = test_generator.classes\n",
        "predictions = loaded_model.predict(test_generator)\n",
        "predicted_labels = np.argmax(predictions, axis=1)\n",
        "\n",
        "print(\"Classification Report:\")\n",
        "print(classification_report(true_labels, predicted_labels))\n",
        "\n",
        "print(\"Confusion Matrix:\")\n",
        "print(confusion_matrix(true_labels, predicted_labels))\n",
        "\n",
        "test_loss, test_accuracy = loaded_model.evaluate(test_generator)\n",
        "print(\"Test Loss:\", test_loss)\n",
        "print(\"Test Accuracy:\", test_accuracy)"
      ],
      "metadata": {
        "id": "7cgVDCyQxZ7l",
        "colab": {
          "base_uri": "https://localhost:8080/"
        },
        "outputId": "d3d3d66a-529c-4772-b330-8020822f4143"
      },
      "execution_count": null,
      "outputs": [
        {
          "output_type": "stream",
          "name": "stdout",
          "text": [
            "33/33 [==============================] - 530s 16s/step\n",
            "Classification Report:\n",
            "              precision    recall  f1-score   support\n",
            "\n",
            "           0       0.20      0.19      0.19       243\n",
            "           1       0.19      0.16      0.18       246\n",
            "           2       0.30      0.31      0.31       300\n",
            "           3       0.25      0.28      0.26       263\n",
            "\n",
            "    accuracy                           0.24      1052\n",
            "   macro avg       0.23      0.24      0.24      1052\n",
            "weighted avg       0.24      0.24      0.24      1052\n",
            "\n",
            "Confusion Matrix:\n",
            "[[46 52 70 75]\n",
            " [56 40 80 70]\n",
            " [67 57 94 82]\n",
            " [62 62 65 74]]\n",
            "33/33 [==============================] - 4s 107ms/step - loss: 0.2937 - accuracy: 0.8859\n",
            "Test Loss: 0.2937217056751251\n",
            "Test Accuracy: 0.8859315514564514\n"
          ]
        }
      ]
    },
    {
      "cell_type": "code",
      "source": [
        "#Make predictions using the loaded model\n",
        "predictions = loaded_model.predict('''input_image''')\n",
        "class_labels = ['glioma', 'meningioma', 'notumor', 'pituitary']\n",
        "predicted_class = class_labels[np.argmax(predictions)]\n",
        "print(\"Predicted Class:\", predicted_class)"
      ],
      "metadata": {
        "id": "FWUCueJEgE-y",
        "colab": {
          "base_uri": "https://localhost:8080/"
        },
        "outputId": "0baaf4a8-f7f5-4783-efdc-80e1548a2533"
      },
      "execution_count": null,
      "outputs": [
        {
          "output_type": "stream",
          "name": "stdout",
          "text": [
            "1/1 [==============================] - 7s 7s/step\n",
            "Predicted Class: glioma\n"
          ]
        }
      ]
    }
  ],
  "metadata": {
    "colab": {
      "provenance": [],
      "gpuType": "T4"
    },
    "kernelspec": {
      "display_name": "Python 3",
      "name": "python3"
    },
    "language_info": {
      "name": "python"
    },
    "accelerator": "GPU"
  },
  "nbformat": 4,
  "nbformat_minor": 0
}